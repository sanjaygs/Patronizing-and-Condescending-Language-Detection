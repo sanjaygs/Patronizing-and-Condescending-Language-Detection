{
 "cells": [
  {
   "cell_type": "code",
   "execution_count": 65,
   "id": "f03e09a9",
   "metadata": {},
   "outputs": [],
   "source": [
    "import csv\n",
    "import numpy as np\n",
    "import math\n",
    "from random import randrange\n",
    "from collections import Counter\n",
    "from numpy import where\n",
    "from matplotlib import pyplot\n",
    "import nltk\n",
    "import sklearn"
   ]
  },
  {
   "cell_type": "markdown",
   "id": "624fbfb7",
   "metadata": {},
   "source": [
    "# Reading and formatting the dataset"
   ]
  },
  {
   "cell_type": "code",
   "execution_count": 2,
   "id": "7be90d1b",
   "metadata": {},
   "outputs": [],
   "source": [
    "from pathlib import Path\n",
    "import re\n",
    "\n",
    "def read_dataset(file_path):\n",
    "    file_path = Path(file_path)\n",
    "\n",
    "    raw_text = file_path.read_text().strip()\n",
    "    raw_docs = raw_text.split('\\n')[4:]\n",
    "#     ids_docs = []\n",
    "#     keywords_docs = []\n",
    "#     texts_docs = []\n",
    "#     labels_docs = []\n",
    "    ids = []\n",
    "    keywords = []\n",
    "    texts = []\n",
    "    labels = []\n",
    "    for line in raw_docs:\n",
    "        \n",
    "#         for line in doc.split('\\n'):\n",
    "        id_, keyword, text, label = line.split('\\t')[0],line.split('\\t')[2],line.split('\\t')[4],line.split('\\t')[5]\n",
    "        ids.append(id_)\n",
    "        keywords.append(keyword)\n",
    "        texts.append(text)\n",
    "        if(label=='0' or label=='1'):\n",
    "            labels.append(0)\n",
    "        else:\n",
    "            labels.append(1)\n",
    "\n",
    "    return ids, keywords, texts, labels"
   ]
  },
  {
   "cell_type": "code",
   "execution_count": 3,
   "id": "0eee5b8b",
   "metadata": {},
   "outputs": [],
   "source": [
    "IDs,Keywords,Texts,Labels = read_dataset('dontpatronizeme_pcl.tsv')"
   ]
  },
  {
   "cell_type": "code",
   "execution_count": 7,
   "id": "f5c73bcd",
   "metadata": {},
   "outputs": [
    {
     "name": "stdout",
     "output_type": "stream",
     "text": [
      "Counter({0: 9476, 1: 993})\n"
     ]
    }
   ],
   "source": [
    "counter=Counter(Labels)\n",
    "print(counter)"
   ]
  },
  {
   "cell_type": "markdown",
   "id": "d0056226",
   "metadata": {},
   "source": [
    "# Pre-Processing"
   ]
  },
  {
   "cell_type": "code",
   "execution_count": 47,
   "id": "59dfb988",
   "metadata": {},
   "outputs": [],
   "source": [
    "from nltk.corpus import stopwords\n",
    "from nltk.stem import PorterStemmer\n",
    "import re\n",
    "corpus = []\n",
    "for i in range(len(Texts)):\n",
    "    review = re.sub('[^a-zA-Z]', ' ', Texts[i])\n",
    "    review = review.lower()\n",
    "    review = review.split()\n",
    "    ps = PorterStemmer()\n",
    "    review = [ps.stem(word) for word in review if not word in set(stopwords.words('english'))]\n",
    "    review = ' '.join(review)\n",
    "    corpus.append(review)"
   ]
  },
  {
   "cell_type": "markdown",
   "id": "cbb1e928",
   "metadata": {},
   "source": []
  },
  {
   "cell_type": "code",
   "execution_count": 50,
   "id": "07741d7b",
   "metadata": {},
   "outputs": [],
   "source": [
    "from sklearn.feature_extraction.text import CountVectorizer\n",
    "cv = CountVectorizer(max_features = 1500)\n",
    "X = cv.fit_transform(corpus).toarray()\n",
    "y = Labels"
   ]
  },
  {
   "cell_type": "markdown",
   "id": "fc93c32e",
   "metadata": {},
   "source": [
    "# Splitting the Data into Training and Testing Sets equally"
   ]
  },
  {
   "cell_type": "code",
   "execution_count": 54,
   "id": "4e4db805",
   "metadata": {},
   "outputs": [],
   "source": [
    "X_train, X_test, y_train, y_test = train_test_split(X, y, test_size = 0.2, random_state = 0)"
   ]
  },
  {
   "cell_type": "markdown",
   "id": "70e39086",
   "metadata": {},
   "source": [
    "# a) Making use of GaussianNB Classifier"
   ]
  },
  {
   "cell_type": "code",
   "execution_count": 56,
   "id": "097e4041",
   "metadata": {},
   "outputs": [
    {
     "data": {
      "text/plain": [
       "GaussianNB()"
      ]
     },
     "execution_count": 56,
     "metadata": {},
     "output_type": "execute_result"
    }
   ],
   "source": [
    "from sklearn.naive_bayes import GaussianNB\n",
    "classifier = GaussianNB()\n",
    "classifier.fit(X_train, y_train)"
   ]
  },
  {
   "cell_type": "code",
   "execution_count": 57,
   "id": "52000799",
   "metadata": {},
   "outputs": [],
   "source": [
    "y_pred_NB = classifier.predict(X_test)"
   ]
  },
  {
   "cell_type": "markdown",
   "id": "333dbe19",
   "metadata": {},
   "source": [
    "## Using Confusion or error matrix to know the performance of GaussianNB Classifier"
   ]
  },
  {
   "cell_type": "code",
   "execution_count": 59,
   "id": "f30fd10f",
   "metadata": {},
   "outputs": [],
   "source": [
    "from sklearn.metrics import confusion_matrix, ConfusionMatrixDisplay\n",
    "cm = confusion_matrix(y_test,y_pred_NB, labels=[0,1])\n",
    "disp = ConfusionMatrixDisplay(confusion_matrix=cm,display_labels=['Not PCL','PCL'])"
   ]
  },
  {
   "cell_type": "code",
   "execution_count": 60,
   "id": "9e0f6104",
   "metadata": {},
   "outputs": [
    {
     "data": {
      "text/plain": [
       "<sklearn.metrics._plot.confusion_matrix.ConfusionMatrixDisplay at 0x7fa703a3e6d0>"
      ]
     },
     "execution_count": 60,
     "metadata": {},
     "output_type": "execute_result"
    },
    {
     "data": {
      "image/png": "[encoded data removed]",
      "text/plain": [
       "<Figure size 432x288 with 2 Axes>"
      ]
     },
     "metadata": {
      "needs_background": "light"
     },
     "output_type": "display_data"
    }
   ],
   "source": [
    "disp.plot()"
   ]
  },
  {
   "cell_type": "markdown",
   "id": "d2342603",
   "metadata": {},
   "source": [
    "## Precision, Recall, F1 Score and number of instance for class 0 and 1 respectively using GaussianNB Classifier"
   ]
  },
  {
   "cell_type": "code",
   "execution_count": 70,
   "id": "c6dd7a79",
   "metadata": {},
   "outputs": [
    {
     "data": {
      "text/plain": [
       "(array([0.9493844 , 0.12472487]),\n",
       " array([0.36777954, 0.82125604]),\n",
       " array([0.53017571, 0.21656051]),\n",
       " array([1887,  207]))"
      ]
     },
     "execution_count": 70,
     "metadata": {},
     "output_type": "execute_result"
    }
   ],
   "source": [
    "sklearn.metrics.precision_recall_fscore_support(y_test,y_pred_NB,average=None)"
   ]
  },
  {
   "cell_type": "markdown",
   "id": "62755154",
   "metadata": {},
   "source": [
    "# b) Making use of Decision Tree Classifier"
   ]
  },
  {
   "cell_type": "code",
   "execution_count": 74,
   "id": "c39e042f",
   "metadata": {},
   "outputs": [],
   "source": [
    "from sklearn.tree import DecisionTreeClassifier\n",
    "classifier = DecisionTreeClassifier(criterion = 'entropy', random_state = 0)"
   ]
  },
  {
   "cell_type": "code",
   "execution_count": 75,
   "id": "5ea0a709",
   "metadata": {},
   "outputs": [
    {
     "data": {
      "text/plain": [
       "DecisionTreeClassifier(criterion='entropy', random_state=0)"
      ]
     },
     "execution_count": 75,
     "metadata": {},
     "output_type": "execute_result"
    }
   ],
   "source": [
    "classifier.fit(X_train, y_train)"
   ]
  },
  {
   "cell_type": "code",
   "execution_count": 76,
   "id": "f38ae9e2",
   "metadata": {},
   "outputs": [],
   "source": [
    "y_pred_DT = classifier.predict(X_test)"
   ]
  },
  {
   "cell_type": "markdown",
   "id": "d65abbed",
   "metadata": {},
   "source": [
    "## Using Confusion or error matrix to know the performance of Decision tree"
   ]
  },
  {
   "cell_type": "code",
   "execution_count": 77,
   "id": "ed46d4b1",
   "metadata": {},
   "outputs": [],
   "source": [
    "cm_DT = confusion_matrix(y_test, y_pred_DT)"
   ]
  },
  {
   "cell_type": "code",
   "execution_count": 82,
   "id": "b216b5bb",
   "metadata": {},
   "outputs": [
    {
     "data": {
      "text/plain": [
       "<sklearn.metrics._plot.confusion_matrix.ConfusionMatrixDisplay at 0x7fa6de07e9a0>"
      ]
     },
     "execution_count": 82,
     "metadata": {},
     "output_type": "execute_result"
    },
    {
     "data": {
      "image/png": "[encoded data removed]",
      "text/plain": [
       "<Figure size 432x288 with 2 Axes>"
      ]
     },
     "metadata": {
      "needs_background": "light"
     },
     "output_type": "display_data"
    }
   ],
   "source": [
    "disp = ConfusionMatrixDisplay(confusion_matrix=cm_DT,display_labels=['Not PCL','PCL'])\n",
    "disp.plot()"
   ]
  },
  {
   "cell_type": "markdown",
   "id": "e0a567d1",
   "metadata": {},
   "source": [
    "## Precision, Recall, F1 Score and number of instance for class 0 and 1 respectively"
   ]
  },
  {
   "cell_type": "code",
   "execution_count": 83,
   "id": "daf32bee",
   "metadata": {},
   "outputs": [
    {
     "data": {
      "text/plain": [
       "(array([0.9120538 , 0.22981366]),\n",
       " array([0.93428723, 0.17874396]),\n",
       " array([0.92303665, 0.20108696]),\n",
       " array([1887,  207]))"
      ]
     },
     "execution_count": 83,
     "metadata": {},
     "output_type": "execute_result"
    }
   ],
   "source": [
    "sklearn.metrics.precision_recall_fscore_support(y_test,y_pred_DT,average=None)"
   ]
  },
  {
   "cell_type": "markdown",
   "id": "86d53f29",
   "metadata": {},
   "source": [
    "# c) Making use of RandomForest Classifier"
   ]
  },
  {
   "cell_type": "code",
   "execution_count": 86,
   "id": "000abeae",
   "metadata": {},
   "outputs": [],
   "source": [
    "from sklearn.ensemble import RandomForestClassifier\n",
    "classifier = RandomForestClassifier(n_estimators = 300, criterion = 'entropy', random_state = 0)"
   ]
  },
  {
   "cell_type": "code",
   "execution_count": 87,
   "id": "275c3e53",
   "metadata": {},
   "outputs": [
    {
     "data": {
      "text/plain": [
       "RandomForestClassifier(criterion='entropy', n_estimators=300, random_state=0)"
      ]
     },
     "execution_count": 87,
     "metadata": {},
     "output_type": "execute_result"
    }
   ],
   "source": [
    "classifier.fit(X_train, y_train)"
   ]
  },
  {
   "cell_type": "code",
   "execution_count": 88,
   "id": "cb5607c9",
   "metadata": {},
   "outputs": [],
   "source": [
    "y_pred_RF = classifier.predict(X_test)"
   ]
  },
  {
   "cell_type": "markdown",
   "id": "b1b01d93",
   "metadata": {},
   "source": [
    "## Using Confusion or error matrix to know the performance of RandomForest Classifier"
   ]
  },
  {
   "cell_type": "code",
   "execution_count": 89,
   "id": "32380d37",
   "metadata": {},
   "outputs": [
    {
     "data": {
      "text/plain": [
       "<sklearn.metrics._plot.confusion_matrix.ConfusionMatrixDisplay at 0x7fa6e2fe2d00>"
      ]
     },
     "execution_count": 89,
     "metadata": {},
     "output_type": "execute_result"
    },
    {
     "data": {
      "image/png": "[encoded data removed]",
      "text/plain": [
       "<Figure size 432x288 with 2 Axes>"
      ]
     },
     "metadata": {
      "needs_background": "light"
     },
     "output_type": "display_data"
    }
   ],
   "source": [
    "cm_RF = confusion_matrix(y_test, y_pred_DT)\n",
    "disp = ConfusionMatrixDisplay(confusion_matrix=cm_RF,display_labels=['Not PCL','PCL'])\n",
    "disp.plot()"
   ]
  },
  {
   "cell_type": "markdown",
   "id": "6aa82583",
   "metadata": {},
   "source": [
    "## Precision, Recall, F1 Score and number of instance for class 0 and 1 respectively using RandomForest Classifier"
   ]
  },
  {
   "cell_type": "code",
   "execution_count": 90,
   "id": "331acfa9",
   "metadata": {},
   "outputs": [
    {
     "data": {
      "text/plain": [
       "(array([0.90229885, 0.5       ]),\n",
       " array([0.99841017, 0.01449275]),\n",
       " array([0.94792453, 0.02816901]),\n",
       " array([1887,  207]))"
      ]
     },
     "execution_count": 90,
     "metadata": {},
     "output_type": "execute_result"
    }
   ],
   "source": [
    "sklearn.metrics.precision_recall_fscore_support(y_test,y_pred_RF,average=None)"
   ]
  },
  {
   "cell_type": "code",
   "execution_count": null,
   "id": "09942250",
   "metadata": {},
   "outputs": [],
   "source": []
  }
 ],
 "metadata": {
  "kernelspec": {
   "display_name": "Python 3",
   "language": "python",
   "name": "python3"
  },
  "language_info": {
   "codemirror_mode": {
    "name": "ipython",
    "version": 3
   },
   "file_extension": ".py",
   "mimetype": "text/x-python",
   "name": "python",
   "nbconvert_exporter": "python",
   "pygments_lexer": "ipython3",
   "version": "3.8.8"
  }
 },
 "nbformat": 4,
 "nbformat_minor": 5
}
